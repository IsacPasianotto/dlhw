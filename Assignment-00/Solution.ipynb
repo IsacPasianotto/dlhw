{
 "cells": [
  {
   "metadata": {},
   "cell_type": "markdown",
   "source": [
    "# Deep Learning assignment #1\n",
    "\n",
    "***Student:*** [Isac Pasianotto](https://github.com/IsacPasianotto/dlhw)"
   ],
   "id": "ac72f528699a5b7c"
  },
  {
   "metadata": {
    "ExecuteTime": {
     "end_time": "2024-05-04T10:03:35.265257Z",
     "start_time": "2024-05-04T10:03:35.256799Z"
    }
   },
   "cell_type": "code",
   "source": [
    "import torch\n",
    "from typing import Iterable, List, Tuple\n",
    "from torch import Tensor\n",
    "from itertools import product"
   ],
   "id": "e1ff2359f4f3d087",
   "outputs": [],
   "execution_count": 27
  },
  {
   "metadata": {},
   "cell_type": "markdown",
   "source": [
    "## 0. Dataset definition\n",
    "\n",
    "The considered dataset is the set of all possible 6-bit long binary sequences. Since the task the network is supposed to perform is to check if a given sequence is palindromic, the dataset is labeled accordingly."
   ],
   "id": "b460cdffde328fe5"
  },
  {
   "metadata": {
    "ExecuteTime": {
     "end_time": "2024-05-04T09:25:07.713441Z",
     "start_time": "2024-05-04T09:25:07.707540Z"
    }
   },
   "cell_type": "code",
   "source": [
    "def is_symmetric(iterable: Iterable) -> float:\n",
    "    \"\"\"\n",
    "    Check if an iterable is palindromic.\n",
    "    :param iterable: an iterable object to check (in our case, a torch tensor)\n",
    "    :return: 1 if the iterable is palindromic, 0 otherwise\n",
    "    \"\"\"\n",
    "    return 1. if all(a == b for a, b in zip(iterable, reversed(iterable))) else 0.\n",
    "\n",
    "# Ensure that the function works as expected\n",
    "assert is_symmetric( torch.tensor([0, 1, 0, 1, 1, 0]) ) == 0.\n",
    "assert is_symmetric( torch.tensor([0, 1, 0, 0, 1, 0]) ) == 1."
   ],
   "id": "a8b06e159606fdf",
   "outputs": [],
   "execution_count": 2
  },
  {
   "metadata": {
    "ExecuteTime": {
     "end_time": "2024-05-04T10:10:24.900589Z",
     "start_time": "2024-05-04T10:10:24.884631Z"
    }
   },
   "cell_type": "code",
   "source": [
    "def build_dataset(nbits: int = 6, dtype: torch.dtype = torch.float16, unbalanced: bool = True, seed: int = 42 ) -> Tuple[Tensor, Tensor]:\n",
    "    \"\"\"\n",
    "    Build the dataset of all possible binary sequences of length nbits and their corresponding labels.\n",
    "    :param nbits: the length (integer) of the binary sequences. Default is 6.\n",
    "    :param dtype: the data type of the tensors. Default is torch.float16.\n",
    "    :param unbalanced: if True, the dataset will contain all the possible binary sequences of length nbits. If False, the palindromic sequences will be repeated more time to balance the dataset.\n",
    "    :param seed: the seed for the random number generator. Default is 42, which is the answer to the Ultimate Question of Life, the Universe, and Everything.\n",
    "    :return: Two tensors: the first one contains all the binary sequences, the second one contains the corresponding labels.\n",
    "    \"\"\"\n",
    "    bin_seq: List[Tuple[int]] = list(product([0, 1], repeat=nbits))  # generate all possible binary sequences of length nbits\n",
    "    sim_true: List[Tuple[int]] = [seq for seq in bin_seq if is_symmetric(seq)]\n",
    "    sim_false: List[Tuple[int]] = [seq for seq in bin_seq if seq not in sim_true]\n",
    "\n",
    "    sim_true: Tensor = torch.tensor(sim_true, dtype=dtype)\n",
    "    sim_false: Tensor = torch.tensor(sim_false, dtype=dtype)\n",
    "\n",
    "    if unbalanced:\n",
    "        x_data: Tensor = torch.cat([sim_true, sim_false], dim=0)\n",
    "        y_data: Tensor = torch.cat([torch.ones(sim_true.shape[0], dtype=dtype), torch.zeros(sim_false.shape[0], dtype=dtype)], dim=0)\n",
    "    else:\n",
    "        balance_ratio: int = sim_false.shape[0] // sim_true.shape[0]\n",
    "        x_data: Tensor = torch.cat([sim_false, torch.cat([sim_true]*balance_ratio, dim=0)], dim=0)\n",
    "        y_data: Tensor = torch.cat([torch.zeros(sim_false.shape[0], dtype=dtype), torch.ones(sim_true.shape[0]*balance_ratio, dtype=dtype)], dim=0)\n",
    "        \n",
    "    n_seq: int = x_data.shape[0]\n",
    "    rndidx: Tensor[int] = torch.randperm(n_seq, generator=torch.Generator().manual_seed(seed))\n",
    "    # Shuffle the dataset\n",
    "    x_data = x_data[rndidx]\n",
    "    y_data = y_data[rndidx]\n",
    "    \n",
    "    return x_data, y_data\n",
    "\n",
    "x_data, y_data = build_dataset()\n",
    "x_data_balanced, y_data_balanced = build_dataset(unbalanced=False)"
   ],
   "id": "af937db0ff5741fe",
   "outputs": [],
   "execution_count": 40
  },
  {
   "metadata": {},
   "cell_type": "markdown",
   "source": [
    "## 1. Network definition\n",
    "\n",
    "The considered paper didn't provide all the needed information to reproduce exactly the experiment. From that I have evinced that:\n",
    "- The input layer has 6 neurons, one for each bit of the input sequence.\n",
    "- There is just 1 hidden layer with 2 neurons.\n",
    "- The output layer has 1 neuron, which is the output of the network.\n",
    "\n",
    "Hence, we can re-draw the *Fig. 1* of the paper with a more conventional representation as:  \n",
    "\n",
    "<center><img src=\"./images/img-00.png\" style=\"width: 35%;\"/></center>\n",
    "\n",
    "Moreover, there is specified that: \n",
    "- The initial weights are randomly drawn from a uniform distribution in the range [-0.3, 0.3].\n",
    "- The gradient descent algorithm was not stochastic, all the dataset was used to compute the gradient.\n",
    "- The train lasted for 1,425 epochs.\n",
    "\n",
    "\n",
    "What is not specified is: \n",
    "\n",
    "- The activation function used in the hidden layer. The only mentioned non-linear function in the paper is $y_i = \\frac{1}{1+e^{-x_i}}$ which is the sigmoid function and is already implemented in [PyTorch](https://pytorch.org/docs/stable/generated/https://pytorch.org/docs/stable/generated/torch.nn.Sigmoid.htmll).\n",
    "- The loss function used. Since the task is a binary classification, the most common loss function is the [Binary Cross Entropy](https://pytorch.org/docs/stable/generated/torch.nn.BCELoss.html)."
   ],
   "id": "bd030f21d8310c0f"
  }
 ],
 "metadata": {
  "kernelspec": {
   "display_name": "Python 3",
   "language": "python",
   "name": "python3"
  },
  "language_info": {
   "codemirror_mode": {
    "name": "ipython",
    "version": 2
   },
   "file_extension": ".py",
   "mimetype": "text/x-python",
   "name": "python",
   "nbconvert_exporter": "python",
   "pygments_lexer": "ipython2",
   "version": "2.7.6"
  }
 },
 "nbformat": 4,
 "nbformat_minor": 5
}
